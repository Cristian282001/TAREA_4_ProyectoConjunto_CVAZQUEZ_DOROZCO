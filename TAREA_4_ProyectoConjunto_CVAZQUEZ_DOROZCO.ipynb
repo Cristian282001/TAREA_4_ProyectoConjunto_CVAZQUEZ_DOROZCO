{
 "cells": [
  {
   "cell_type": "markdown",
   "id": "06526846",
   "metadata": {},
   "source": [
    "<img style=\"float: left; margin: 30px 15px 15px 15px;\" src=\"https://pngimage.net/wp-content/uploads/2018/06/logo-iteso-png-5.png\" width=\"300\" height=\"500\" /> \n",
    "    \n",
    "    \n",
    "### <font color='navy'> Simulación de procesos financieros. \n",
    "\n",
    "**Nombres:** \n",
    "* Daniel Orozco Gómez\n",
    "* Cristian Vázquez Plesent\n",
    "\n",
    "**Fecha:** 08 de Marzo del 2023.\n",
    "\n",
    "**Expedientes**: 731324, 728143.\n",
    "    \n",
    "**Profesor:** Oscar David Jaramillo Zuluaga.\n",
    "    \n",
    "**Link Github**: https://github.com/Cristian282001/TAREA_4_ProyectoConjunto_CVAZQUEZ_DOROZCO.git\n",
    "\n",
    "# Tarea 4: Clase 9"
   ]
  },
  {
   "cell_type": "markdown",
   "id": "c31a08e0",
   "metadata": {},
   "source": [
    "## Enunciado 1:\n",
    "\n",
    ">### <font color ='red'> **Tarea 4** \n",
    "    \n",
    "> Para las siguiente dos funciones, genere muestres aleatorias que distribuyan según la función dada usando el método de la transformada inversa y grafique el histograma de 1000 muestras generadas con el método de la transformada inversa y compárela con el función $f(x)$ **(recuerde que $f(x)$ es la distribución de probabilidad y $F(x)$ es la distribución de probabilidad acumulada)** [ver este enlace para más información](https://es.wikipedia.org/wiki/Funci%C3%B3n_de_distribuci%C3%B3n). Este procedimiento se realiza con el fín de validar que el procedimiento y los resultados son correctos.\n"
   ]
  },
  {
   "cell_type": "markdown",
   "id": "29ceda7b",
   "metadata": {},
   "source": [
    "## Ejercicio 1:\n",
    "\n",
    "> 1. Generación variable aleatoria continua\n",
    ">El tiempo en el cual un movimiento browniano se mantiene sobre su punto máximo en el intervalo [0,1] tiene una distribución\n",
    ">$$F(x)=\\frac{2}{\\pi}\\sin^{-1}(\\sqrt x),\\quad 0\\leq x\\leq 1$$ </font>"
   ]
  },
  {
   "cell_type": "markdown",
   "id": "df1a145f",
   "metadata": {},
   "source": [
    "### Código de solución estudiante 1"
   ]
  },
  {
   "cell_type": "code",
   "execution_count": 1,
   "id": "66c303f5",
   "metadata": {
    "scrolled": false
   },
   "outputs": [],
   "source": [
    "# Libreria\n",
    "\n",
    "import numpy as np\n",
    "import matplotlib.pyplot as plt\n"
   ]
  },
  {
   "cell_type": "code",
   "execution_count": 2,
   "id": "b60e9dd6",
   "metadata": {},
   "outputs": [],
   "source": [
    "# Definir la función de distribución de probabilidad acumulada (FDA)\n",
    "\n",
    "def F(x):\n",
    "    return 1/((np.sqrt(1-x))*(np.sqrt(x))*np.pi)\n"
   ]
  },
  {
   "cell_type": "code",
   "execution_count": 3,
   "id": "29ef8810",
   "metadata": {},
   "outputs": [],
   "source": [
    "# Definir la función de distribución de probabilidad acumulada (FDA)\n",
    "\n",
    "def F(x):\n",
    "    return 1/((np.sqrt(1-x))*(np.sqrt(x))*np.pi)\n",
    "\n",
    "\n",
    "# Definir la función inversa de la FDA\n",
    "\n",
    "def F_inv(p):\n",
    "    return np.sin((np.pi*p)/2)**2 "
   ]
  },
  {
   "cell_type": "code",
   "execution_count": 4,
   "id": "596b5dfe",
   "metadata": {},
   "outputs": [],
   "source": [
    "# Generar 1000 muestras aleatorias\n",
    "\n",
    "muestra = [F_inv(np.random.uniform(0,1)) for i in range(1000)]\n"
   ]
  },
  {
   "cell_type": "code",
   "execution_count": 5,
   "id": "eb73c3d8",
   "metadata": {},
   "outputs": [
    {
     "data": {
      "text/plain": [
       "(array([3.36002773, 1.17000966, 1.08000891, 1.14000941, 0.96000792,\n",
       "        0.75000619, 0.93000768, 0.54000446, 0.66000545, 0.6300052 ,\n",
       "        0.81000669, 0.6900057 , 0.72000594, 0.66000545, 0.66000545,\n",
       "        0.78000644, 0.72000594, 0.5700047 , 0.54000446, 0.81000669,\n",
       "        0.42000347, 0.6900057 , 0.51000421, 0.75000619, 1.02000842,\n",
       "        0.87000718, 1.23001015, 1.35001114, 1.2000099 , 3.7800312 ]),\n",
       " array([2.96802796e-08, 3.33330879e-02, 6.66661461e-02, 9.99992043e-02,\n",
       "        1.33332262e-01, 1.66665321e-01, 1.99998379e-01, 2.33331437e-01,\n",
       "        2.66664495e-01, 2.99997554e-01, 3.33330612e-01, 3.66663670e-01,\n",
       "        3.99996728e-01, 4.33329786e-01, 4.66662845e-01, 4.99995903e-01,\n",
       "        5.33328961e-01, 5.66662019e-01, 5.99995077e-01, 6.33328136e-01,\n",
       "        6.66661194e-01, 6.99994252e-01, 7.33327310e-01, 7.66660368e-01,\n",
       "        7.99993427e-01, 8.33326485e-01, 8.66659543e-01, 8.99992601e-01,\n",
       "        9.33325659e-01, 9.66658718e-01, 9.99991776e-01]),\n",
       " <BarContainer object of 30 artists>)"
      ]
     },
     "execution_count": 5,
     "metadata": {},
     "output_type": "execute_result"
    },
    {
     "data": {
      "image/png": "[encoded data removed]",
      "text/plain": [
       "<Figure size 432x288 with 1 Axes>"
      ]
     },
     "metadata": {
      "needs_background": "light"
     },
     "output_type": "display_data"
    }
   ],
   "source": [
    "# Graficar el histograma de las muestras generadas\n",
    "\n",
    "plt.hist(muestra, bins=30, density=True, alpha=0.7)"
   ]
  },
  {
   "cell_type": "code",
   "execution_count": 6,
   "id": "b0e801d7",
   "metadata": {},
   "outputs": [
    {
     "name": "stderr",
     "output_type": "stream",
     "text": [
      "C:\\Users\\Dell\\AppData\\Local\\Temp\\ipykernel_17356\\2699970856.py:4: RuntimeWarning: divide by zero encountered in double_scalars\n",
      "  return 1/((np.sqrt(1-x))*(np.sqrt(x))*np.pi)\n"
     ]
    },
    {
     "data": {
      "image/png": "[encoded data removed]",
      "text/plain": [
       "<Figure size 432x288 with 1 Axes>"
      ]
     },
     "metadata": {
      "needs_background": "light"
     },
     "output_type": "display_data"
    }
   ],
   "source": [
    "# Graficar el histograma de las muestras generadas\n",
    "\n",
    "plt.hist(muestra, bins=30, density=True, alpha=0.7)\n",
    "\n",
    "# Definir el rango de la gráfica\n",
    "\n",
    "x = np.linspace(0,1,100)\n",
    "y = [F(i) for i in x]\n",
    "\n",
    "# Graficar el histograma de las muestras generadas\n",
    "\n",
    "plt.hist(muestra, bins=30, density=True, alpha=0.7)\n",
    "\n",
    "# Graficar la función de distribución de probabilidad (FDP)\n",
    "\n",
    "plt.plot(x, y, color='red')\n",
    "\n",
    "# Añadir leyendas y títulos\n",
    "\n",
    "plt.xlabel('x')\n",
    "plt.ylabel('f(x)')\n",
    "plt.title('Distribución de probabilidad y muestras generadas')\n",
    "plt.legend(['F(x)', 'Muestras'])\n",
    "plt.show()"
   ]
  },
  {
   "cell_type": "markdown",
   "id": "9ec755c2",
   "metadata": {},
   "source": [
    "### Código de solución estudiante 2"
   ]
  },
  {
   "cell_type": "markdown",
   "id": "022880f6",
   "metadata": {},
   "source": [
    "$$ U = \\frac{2}{\\pi}\\sin^{-1}(\\sqrt{x}) $$\n",
    "$$ \\frac{U\\pi}{2} = \\sin^{-1}(\\sqrt{x}) $$\n",
    "$$ \\sin(\\frac{U\\pi}{2}) = \\sqrt{x} $$\n",
    "$$ x = \\sin(\\frac{U\\pi}{2})^2 $$\n",
    "$$ f(x) = \\frac{1}{\\pi \\sqrt{x}\\sqrt{1-x}} $$"
   ]
  },
  {
   "cell_type": "code",
   "execution_count": 7,
   "id": "7356e2c1",
   "metadata": {},
   "outputs": [
    {
     "data": {
      "image/png": "[encoded data removed]",
      "text/plain": [
       "<Figure size 720x432 with 1 Axes>"
      ]
     },
     "metadata": {
      "needs_background": "light"
     },
     "output_type": "display_data"
    }
   ],
   "source": [
    "u = np.random.rand(1000)\n",
    "fx = np.sin(np.pi/2 * u)**2\n",
    "\n",
    "x = np.arange(0.01,0.99,0.001)\n",
    "y = 1/(np.pi*np.sqrt(x)*np.sqrt(1-x))\n",
    "\n",
    "plt.figure(figsize=(10,6))\n",
    "plt.plot(x, y, color = 'r', label = 'f(x)')\n",
    "plt.hist(fx, 30, density = True,)\n",
    "plt.legend()\n",
    "plt.show()"
   ]
  },
  {
   "cell_type": "markdown",
   "id": "d793495a",
   "metadata": {},
   "source": [
    "## Ejercicio 2:"
   ]
  },
  {
   "cell_type": "markdown",
   "id": "d5901814",
   "metadata": {},
   "source": [
    "> 2. Generación variable aleatoria Discreta\n",
    "> La distribución binomial modela el número de éxitos de n ensayos independientes donde hay una probabilidad p de éxito en cada ensayo.\n",
    "> Generar una variable aletoria binomial con parámetros $n=10$ y $p=0.7$. Recordar que $$X\\sim binomial(n,p) \\longrightarrow p_i=P(X=i)=\\frac{n!}{i!(n-i)!}p^i(1-p)^{n-i},\\quad i=0,1,\\cdots,n$$\n",
    "> Por propiedades de la operación factorial la anterior $p_i$ se puede escribir como:\n",
    "> $$p_{i+1}=\\frac{n-i}{i+1}\\frac{p}{1-p} p_i $$\n",
    "\n",
    "> **Nota:** Por notación recuerde que para el caso continuo $f(x)$ es la distribución de probabilidad (PDF), mientras $F(x)$ corresponde a la distribución de probabilidad acumulada (CDF). Para el caso discreto, $P(X=i)$ corresponde a su distribución de probabilidad (PMF) y $ F_{X}(x)=\\operatorname {P} (X\\leq x)=\\sum _{x_{i}\\leq x}\\operatorname {P} (X=x_{i})=\\sum _{x_{i}\\leq x}p(x_{i})$, corresponde a su distribución de probabilidad acumulada (CDF)."
   ]
  },
  {
   "cell_type": "markdown",
   "id": "ce4b52e6",
   "metadata": {},
   "source": [
    "### Código de solución estudiante 1"
   ]
  },
  {
   "cell_type": "code",
   "execution_count": 8,
   "id": "f97550c7",
   "metadata": {},
   "outputs": [],
   "source": [
    "#Librerias\n",
    "\n",
    "import numpy as np\n",
    "import matplotlib.pyplot as plt\n",
    "import pandas as pd"
   ]
  },
  {
   "cell_type": "code",
   "execution_count": 9,
   "id": "611b8df4",
   "metadata": {},
   "outputs": [],
   "source": [
    "# Creación función acumuladas \n",
    "def acum(n ,p):\n",
    "    p_r = np.zeros(n)\n",
    "    p_r[0] = (1 - p) ** n\n",
    "    def pr(i):\n",
    "        nonlocal p_r\n",
    "        p_r[i + 1] = ((p / (1 - p)) * (n - i) / (i + 1)) * p_r[i]\n",
    "    [pr(i) for i in range(n - 1)]\n",
    "    return np.cumsum(p_r)\n"
   ]
  },
  {
   "cell_type": "code",
   "execution_count": 10,
   "id": "c882003f",
   "metadata": {},
   "outputs": [],
   "source": [
    "# Creación función Inversa \n",
    "\n",
    "def inv(pacum, N):\n",
    "    i_n = range(0, n + 1)\n",
    "    u = np.random.rand(N)\n",
    "    random = {i: idx for i, idx in enumerate(i_n)}\n",
    "    y = pd.Series([sum([1 for p in pacum if p < ui]) for ui in u]).map(random)\n",
    "    return y"
   ]
  },
  {
   "cell_type": "code",
   "execution_count": 11,
   "id": "a6640c8b",
   "metadata": {},
   "outputs": [],
   "source": [
    "# Parámetros de la distribución\n",
    "\n",
    "N = 1000\n",
    "n = 10\n",
    "p = 0.7\n",
    "dist = acum(n, p)\n",
    "m = inv(dist, N)"
   ]
  },
  {
   "cell_type": "code",
   "execution_count": 12,
   "id": "77428d57",
   "metadata": {
    "scrolled": true
   },
   "outputs": [
    {
     "data": {
      "image/png": "[encoded data removed]",
      "text/plain": [
       "<Figure size 720x288 with 1 Axes>"
      ]
     },
     "metadata": {
      "needs_background": "light"
     },
     "output_type": "display_data"
    }
   ],
   "source": [
    "# Graficar el histograma de la Inversa\n",
    "\n",
    "plt.figure(figsize=[10,4])\n",
    "y, x = np.histogram(m, bins = len(set(m)), density = True) \n",
    "plt.bar(range(min(m),11), y, label ='Inversa')\n",
    "plt.legend()\n",
    "plt.title('Inversa')\n",
    "plt.show()\n"
   ]
  },
  {
   "cell_type": "code",
   "execution_count": 13,
   "id": "48841b8d",
   "metadata": {},
   "outputs": [
    {
     "data": {
      "image/png": "[encoded data removed]",
      "text/plain": [
       "<Figure size 720x288 with 1 Axes>"
      ]
     },
     "metadata": {
      "needs_background": "light"
     },
     "output_type": "display_data"
    }
   ],
   "source": [
    "# Graficar el histograma de la Binomial\n",
    "\n",
    "b = np.random.binomial(n,p,N)\n",
    "plt.figure(figsize=[10,4])\n",
    "y_1, x_1 = np.histogram(m, bins=len(set(m)), density = True) \n",
    "plt.bar(x[1:], y,label = 'Binomial')\n",
    "plt.title('Binomial')\n",
    "plt.legend()\n",
    "plt.show()"
   ]
  },
  {
   "cell_type": "markdown",
   "id": "e519ade6",
   "metadata": {},
   "source": [
    "### Interpretacion\n",
    "\n",
    "- El siguiente código genera una variable aleatoria discreta binomial utilizando el método de la inversa de la función de distribución acumulada. Primero, se define una función llamada `acum` que calcula la distribución de probabilidad acumulada de la distribución binomial utilizando el método recursivo de la función de probabilidad `pr`. Luego, se define una función `inv` que genera una muestra aleatoria de la distribución binomial a partir de la distribución de probabilidad acumulada previamente calculada y el número de muestras `N` deseado. Finalmente, se grafican los histogramas de la distribución de probabilidad obtenida mediante la función inversa y de la distribución binomial generada directamente mediante la función `np.random.binomial`, para compararlas."
   ]
  },
  {
   "cell_type": "markdown",
   "id": "4f55b7e7",
   "metadata": {},
   "source": [
    "### Código de solución estudiante 2"
   ]
  },
  {
   "cell_type": "code",
   "execution_count": 19,
   "id": "dbd3ea51",
   "metadata": {},
   "outputs": [],
   "source": [
    "def binomial_distribution(n: int, p:float) -> np.array:\n",
    "    pdf = np.zeros(n)\n",
    "    for i in range(n):\n",
    "        pdf[i] = np.math.factorial(n)/(np.math.factorial(i+1) * np.math.factorial(n - i - 1)) * p ** (i+1) * (1-p)**(n-i-1)\n",
    "    return pdf"
   ]
  },
  {
   "cell_type": "code",
   "execution_count": 20,
   "id": "5fb5e446",
   "metadata": {},
   "outputs": [],
   "source": [
    "def Gen_distr_discreta(p_acum: 'P.Acumulada de la distribución a generar',\n",
    "                       indices: 'valores reales a generar aleatoriamente',\n",
    "                       N: 'cantidad de números aleatorios a generar'):\n",
    "    \n",
    "    U = np.random.rand(N)\n",
    "    # Diccionario de valores aleatorios\n",
    "    rand2reales = {i: idx for i, idx in zip(range(len(indices)), indices)}\n",
    "    # Series de los valores aletorios\n",
    "    y = pd.Series([sum([1 for p in p_acum if p<ui]) for ui in U])\n",
    "    return y"
   ]
  },
  {
   "cell_type": "code",
   "execution_count": 21,
   "id": "a4fed8fa",
   "metadata": {},
   "outputs": [],
   "source": [
    "n = 10\n",
    "p = 0.7\n",
    "pdf = binomial_distribution(n, p)\n",
    "cdf = pdf.cumsum()\n",
    "x_x = np.arange(1,n+1)\n",
    "\n",
    "N = 10_000\n",
    "x_r = Gen_distr_discreta(cdf, x_x, N)"
   ]
  },
  {
   "cell_type": "code",
   "execution_count": 22,
   "id": "602a524e",
   "metadata": {},
   "outputs": [
    {
     "data": {
      "image/png": "[encoded data removed]",
      "text/plain": [
       "<Figure size 720x432 with 1 Axes>"
      ]
     },
     "metadata": {
      "needs_background": "light"
     },
     "output_type": "display_data"
    }
   ],
   "source": [
    "y, x = np.histogram(x_r, bins=len(set(x_x)), density=True)\n",
    "plt.figure(figsize=(10,6))\n",
    "plt.bar(x_x, y)\n",
    "plt.title(f'Distribución Binomial n={n} p={p}')\n",
    "plt.plot(x_x, pdf, 'ro')\n",
    "plt.show()"
   ]
  },
  {
   "cell_type": "markdown",
   "id": "24760e7a",
   "metadata": {},
   "source": [
    "## Enunciado 2:\n",
    "\n",
    "\n",
    "> ## <font color ='red'>Tarea 4: Demostrar la validez de la siguiente ecuación\n",
    ">$$p_{i+1}=\\frac{n-i}{i+1}\\frac{p}{1-p} p_i \\longrightarrow \\text{Hablar de las ventajas que sea recursiva}$$"
   ]
  },
  {
   "cell_type": "markdown",
   "id": "e8720a1a",
   "metadata": {},
   "source": [
    "### Código de solución estudiante 1"
   ]
  },
  {
   "cell_type": "markdown",
   "id": "9b465e1f",
   "metadata": {},
   "source": [
    "\n",
    "> Probabilidad con $i$:\n",
    "\n",
    "$$X\\sim binomial(n,p) \\longrightarrow p_i=P(X=i)=\\frac{n!}{i!(n-i)!}p^i(1-p)^{n-i},\\quad i=0,1,\\cdots,n$$\n",
    "$$ P(X=i)=\\frac{n!}{i!(n-i)!}p^i(1-p)^{n-i}$$\n",
    "\n",
    "\n",
    "> Probabilidad con $i + 1$:\n",
    "\n",
    "$$P(X = i + 1) = \\frac{n!}{(i + 1)! (n - (i + 1))!} p^{i + 1} (1 - p)^{n - (i + 1)}$$\n",
    "\n",
    "$$P(X = i + 1) = \\frac{n!}{(i + 1)! (n - i - 1)!} p^{i + 1} (1 - p)^{n - i - 1}$$\n",
    "\n",
    "> Demostracion\n",
    "\n",
    "$$p_{i+1}=\\frac{n!}{(i + 1)! (n - (i + 1))!} p^{i + 1} (1 - p)^{n - (i + 1)}$$\n",
    "\n",
    "$$ p_{i+1}=\\frac{n!}{(i + 1)i! (n - i )!} p^{i} p(1 - p)^{n - i } (1 - p)^{- 1 }$$\n",
    "\n",
    "$$ p_{i+1}=\\frac{\\frac{n!}{(i+1)!(n-(i+1))!}p^{i+1}(1-p)^{n-(i+1)}}{\\frac{n!}{i!(n-i)!}p^i(1-p)^{n-i}}$$\n",
    "\n",
    "$$ p_{i + 1} =  \\frac{(n - i)p}{(i + 1)(1 - p)} p_i $$"
   ]
  },
  {
   "cell_type": "markdown",
   "id": "3c8f58cc",
   "metadata": {},
   "source": [
    "### Interpretacion\n",
    "- La ventaja de tener una ecuación recursiva en comparación con la expresión inicial radica en una eficiencia computacional significativa. La expresión inicial incluye la operación aritmética factorial, lo que implica un mayor costo de cómputo al calcular probabilidades para un gran número de ensayos `(𝑛)`. En cambio, la expresión recursiva sólo necesita la probabilidad del ensayo `𝑖` para calcular la probabilidad del siguiente ensayo `𝑖+1`, lo que elimina la necesidad de utilizar la operación factorial."
   ]
  },
  {
   "cell_type": "markdown",
   "id": "607d47ef",
   "metadata": {},
   "source": [
    "### Código de solución estudiante 2"
   ]
  },
  {
   "cell_type": "markdown",
   "id": "a67093fb",
   "metadata": {},
   "source": [
    "Cuando $i=0$ :\n",
    "$$p_{1}=\\frac{n-0}{0+1}\\frac{p}{1-p} p_0 = (n(1-p))p_0$$\n",
    "\n",
    "Es válido, porque la probabilidad de éxito en el primer intento $p_1$ se obtiene multiplicando la probabilidad de fracaso en los primeros $i$ intentos (en este caso, $i = 0$) por la probabilidad de éxito en el siguiente intento (en este caso, $i + 1 = 1$)"
   ]
  },
  {
   "cell_type": "markdown",
   "id": "75f845c4",
   "metadata": {},
   "source": [
    "Cuando $i=k$ :\n",
    "\n",
    "$$p_{k+1}=\\frac{n-k}{k+1}\\frac{p}{1-p} p_k$$"
   ]
  },
  {
   "cell_type": "markdown",
   "id": "1e97ff3b",
   "metadata": {},
   "source": [
    "Cuando $i = k + 1$ :\n",
    "\n",
    "$$p_{k+2}=\\frac{n-k-1}{k+2}\\frac{p}{1-p} p_{k+1}$$"
   ]
  },
  {
   "cell_type": "markdown",
   "id": "8b09931e",
   "metadata": {},
   "source": [
    "Sustituyendo $p_{k+1}$ en esta última ecuación por la ecuación anterior:\n",
    "\n",
    "$$p_{k+2}=\\frac{n-k-1}{k+2}\\frac{p}{1-p} \\left(\\frac{n-k}{k+1}\\frac{p}{1-p} p_k\\right)$$"
   ]
  },
  {
   "cell_type": "markdown",
   "id": "cbcd57f5",
   "metadata": {},
   "source": [
    "$$p_{k+2}=\\frac{(n-k)(n-k-1)}{(k+1)(k+2)}\\frac{p^2}{(1-p)^2}p_k$$"
   ]
  },
  {
   "cell_type": "markdown",
   "id": "5112c80f",
   "metadata": {},
   "source": [
    "Si $p_{k+1}$:\n",
    "\n",
    "$$p_{k+2}=\\frac{n-k-1}{n-k}\\cdot \\frac{(n-k)(n-k-1)}{(k+1)(k+2)}\\cdot \\frac{p^2}{(1-p)^2}p_k$$\n",
    "\n",
    "$$p_{k+2}=\\frac{n-k-1}{n-k}\\cdot \\frac{(n-k)}{(k+2)}\\cdot \\frac{(n-k-1)}{(k+1)}\\cdot \\frac{p^2}{(1-p)^2}p_k$$\n",
    "\n",
    "$$p_{k+2}=\\frac{(n-k-1)p}{(k+2)(1-p)}\\cdot \\frac{(n-k)p}{(k+1)(1-p)}\\cdot p_k$$\n",
    "\n",
    "$$p_{k+2}=\\frac{n-k-1}{k+2}\\cdot \\frac{p}{1-p}\\cdot \\frac{n-k}{k+1}\\cdot \\frac{p}{1-p}\\cdot p_k$$\n",
    "\n",
    "Es la ecuación que queríamos demostrar. Por lo tanto, la ecuación es válida para todo $i$"
   ]
  },
  {
   "cell_type": "markdown",
   "id": "4c609bc1",
   "metadata": {},
   "source": [
    "La ventaja de que la ecuación sea recursiva es que nos permite calcular la probabilidad de éxito en cualquier paso $i$ de una secuencia de $n$ intentos independientes, sin tener que calcular todas las probabilidades de éxito en cada uno de los $i$ pasos anteriores."
   ]
  },
  {
   "cell_type": "markdown",
   "id": "ee7ce4e6",
   "metadata": {},
   "source": [
    "## Enunciado 3:\n",
    "\n",
    "> ## <font color ='red'>Tarea 4\n",
    "Seguir un procedimiento similar al mostrado cuando se generó una distribución binomial, pero en esta caso genere un código que genere variables aletorias Poisson cuya función de distribución de probabilidad esta dada por:\n",
    ">$$P(k,\\lambda)=\\frac{e^{-\\lambda}(\\lambda)^k}{k!}$$\n",
    "    \n",
    "> Demuestre matemáticamente que \n",
    "> $$P(k+1)=\\frac{\\lambda}{k+1}P(k)$$\n",
    "> y a partir de esta relación genere variables aletorias que distribuyen poisson usando el método de la transformada inversa.\n",
    "\n",
    "Enlace: https://es.wikipedia.org/wiki/Distribuci%C3%B3n_de_Poisson\n"
   ]
  },
  {
   "cell_type": "markdown",
   "id": "b0c04b18",
   "metadata": {},
   "source": [
    "### Código de solución estudiante 1"
   ]
  },
  {
   "cell_type": "markdown",
   "id": "d97f84e8",
   "metadata": {},
   "source": [
    "> Probabilidad con $k$:\n",
    "\n",
    "$$P(k) = \\frac{e^{-\\lambda} \\space \\lambda^k}{k!}$$\n",
    "\n",
    "> Probabilidad con $k + 1$:\n",
    "\n",
    "$$P(k + 1) = \\frac{e^{-\\lambda} \\space \\lambda^{k + 1}}{(k + 1)!}$$\n",
    "\n",
    "> Demostracion\n",
    "\n",
    "$$P(k+1)=\\frac{e^{-\\lambda}(\\lambda)^{k+1}}{(k+1)!}$$\n",
    "    \n",
    "$$P(k+1)=\\frac{e^{-\\lambda}(\\lambda)^{k}\\lambda}{(k+1)k!}$$\n",
    "\n",
    "$$P(k+1) = \\frac{\\lambda}{( k + 1)} P(k)$$"
   ]
  },
  {
   "cell_type": "code",
   "execution_count": 14,
   "id": "c93be227",
   "metadata": {
    "scrolled": true
   },
   "outputs": [],
   "source": [
    "# Libreria\n",
    "\n",
    "import numpy as np\n",
    "import pandas as pd\n",
    "import matplotlib.pyplot as plt\n"
   ]
  },
  {
   "cell_type": "code",
   "execution_count": 15,
   "id": "e0b8f6da",
   "metadata": {},
   "outputs": [],
   "source": [
    "# Genera una distribución de probabilidad de \n",
    "# Poisson para un parámetro de tasa λ y un número \n",
    "# k de valores posibles en la distribución.\n",
    "\n",
    "def poisson(l, k):\n",
    "    p = np.zeros(k + 1)\n",
    "    p[0] = np.exp(-l)\n",
    "    for i in range(k):\n",
    "        p[i+1] = (l/(i+1))*p[i]\n",
    "    return np.cumsum(p)"
   ]
  },
  {
   "cell_type": "code",
   "execution_count": 16,
   "id": "d9b63b62",
   "metadata": {},
   "outputs": [],
   "source": [
    "# Genera una distribución discreta de variables aleatorias a \n",
    "# partir de una distribución acumulada y una lista de índices.\n",
    "\n",
    "def gen_distr_discreta(p_acum, indices, N):\n",
    "    U = np.random.rand(N)\n",
    "    rand2reales = dict(enumerate(indices))\n",
    "    y = pd.Series(np.searchsorted(p_acum, U)).map(rand2reales)\n",
    "    return y"
   ]
  },
  {
   "cell_type": "code",
   "execution_count": 17,
   "id": "05a5a0ba",
   "metadata": {},
   "outputs": [],
   "source": [
    "# Traza un histograma de la distribución discreta resultante \n",
    "# con la opción de mostrar la densidad en lugar de los conteos\n",
    "\n",
    "def plot_histogram_discrete(distribucion, label, densidad=True):\n",
    "    plt.figure(figsize=[10,4])\n",
    "    plt.hist(distribucion, bins=len(set(distribucion)), density=densidad, label=label)\n",
    "    plt.legend()\n",
    "    plt.show()"
   ]
  },
  {
   "cell_type": "code",
   "execution_count": 18,
   "id": "7d1f8c06",
   "metadata": {},
   "outputs": [
    {
     "data": {
      "image/png": "[encoded data removed]",
      "text/plain": [
       "<Figure size 720x288 with 1 Axes>"
      ]
     },
     "metadata": {
      "needs_background": "light"
     },
     "output_type": "display_data"
    }
   ],
   "source": [
    "# Parámetros lambda\n",
    "\n",
    "pacum = poisson(2, 100)\n",
    "\n",
    "# Arreglo con los posibles valores de la variable aleatoria\n",
    "\n",
    "dist_poisson = gen_distr_discreta(pacum, np.arange(0, 11), 1000)\n",
    "\n",
    "# Graficar el histograma de la distribución de Poisson\n",
    "\n",
    "plot_histogram_discrete(dist_poisson, 'Poisson transformada inversa')"
   ]
  },
  {
   "cell_type": "markdown",
   "id": "7e9676a7",
   "metadata": {},
   "source": [
    "### Código de solución estudiante 2"
   ]
  },
  {
   "cell_type": "markdown",
   "id": "ee9a48b3",
   "metadata": {},
   "source": [
    "Demostrar que:\n",
    "\n",
    "$$ P(k+1) = \\frac{\\lambda}{k+1}P(k)$$\n",
    "\n",
    "Por propiedades de factoriales:\n",
    "\n",
    "$$k! = k(1+k)!$$\n",
    "\n",
    "y\n",
    "\n",
    "$$ \\frac{k!}{(k+1)!} = \\frac{1}{k+1}$$\n",
    "\n",
    "Entonces:\n",
    "\n",
    "$$P(k+1) = \\frac{\\frac{e^{-\\lambda}(\\lambda)^{k+1}}{(k+1)!}}{\\frac{e^{-\\lambda}(\\lambda)^k}{k!}}$$\n",
    "\n",
    "Se reacomoda como:\n",
    "\n",
    "$$P(k+1) = \\frac{\\lambda}{(k+1)}P(k)$$"
   ]
  },
  {
   "cell_type": "code",
   "execution_count": 25,
   "id": "bbad8496",
   "metadata": {},
   "outputs": [],
   "source": [
    "def P_acum_Poisson_o(k,l):\n",
    "    global Pr\n",
    "    Pr = np.zeros(k)\n",
    "    Pr[0] = np.exp(-l)\n",
    "    def pr(i):\n",
    "        global Pr\n",
    "        Pr[i+1]=l/(i+1)*Pr[i]\n",
    "        \n",
    "    # Lleno el vector Pr usando compresión de listas\n",
    "    [pr(i) for i in range(k-1)]\n",
    "    return np.cumsum(Pr)"
   ]
  },
  {
   "cell_type": "code",
   "execution_count": 26,
   "id": "cc856e20",
   "metadata": {
    "scrolled": true
   },
   "outputs": [
    {
     "data": {
      "image/png": "[encoded data removed]",
      "text/plain": [
       "<Figure size 936x288 with 2 Axes>"
      ]
     },
     "metadata": {
      "needs_background": "light"
     },
     "output_type": "display_data"
    }
   ],
   "source": [
    "n = 12; l = 4; N = 10**4\n",
    "\n",
    "p_acum = P_acum_Poisson_o(n,l)\n",
    "u = np.random.rand(N)\n",
    "\n",
    "# Gráfica de resultados\n",
    "plt.figure(figsize=[13,4])\n",
    "plt.subplot(121)\n",
    "d_pois = list(map(lambda j:sum(1 for i in p_acum if i<u[j]),range(N)))\n",
    "plt.hist(d_pois,100,density=True,label='F creada')\n",
    "plt.legend()\n",
    "\n",
    "plt.subplot(122)\n",
    "d_pois_numpy = np.random.poisson(l,N)\n",
    "plt.hist(d_pois_numpy,100,density=True,label='Numpy')\n",
    "plt.legend()\n",
    "np.histogram\n",
    "plt.show()"
   ]
  },
  {
   "attachments": {
    "Captura.PNG": {
     "image/png": "[encoded data removed]"
    }
   },
   "cell_type": "markdown",
   "id": "b0d7694f",
   "metadata": {},
   "source": [
    "![Captura.PNG](attachment:Captura.PNG)"
   ]
  },
  {
   "cell_type": "markdown",
   "id": "56e9ad2b",
   "metadata": {},
   "source": [
    "Tuvimos problemas con gitkraken, por lo que decidimos subirlo directo."
   ]
  },
  {
   "cell_type": "code",
   "execution_count": null,
   "id": "726ad66c",
   "metadata": {},
   "outputs": [],
   "source": []
  }
 ],
 "metadata": {
  "kernelspec": {
   "display_name": "Python 3 (ipykernel)",
   "language": "python",
   "name": "python3"
  },
  "language_info": {
   "codemirror_mode": {
    "name": "ipython",
    "version": 3
   },
   "file_extension": ".py",
   "mimetype": "text/x-python",
   "name": "python",
   "nbconvert_exporter": "python",
   "pygments_lexer": "ipython3",
   "version": "3.9.12"
  }
 },
 "nbformat": 4,
 "nbformat_minor": 5
}
