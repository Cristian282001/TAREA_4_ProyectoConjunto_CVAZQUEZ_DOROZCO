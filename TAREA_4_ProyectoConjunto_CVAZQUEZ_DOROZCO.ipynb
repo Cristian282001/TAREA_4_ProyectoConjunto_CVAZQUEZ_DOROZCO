{
 "cells": [
  {
   "cell_type": "markdown",
   "id": "06526846",
   "metadata": {},
   "source": [
    "<img style=\"float: left; margin: 30px 15px 15px 15px;\" src=\"https://pngimage.net/wp-content/uploads/2018/06/logo-iteso-png-5.png\" width=\"300\" height=\"500\" /> \n",
    "    \n",
    "    \n",
    "### <font color='navy'> Simulación de procesos financieros. \n",
    "\n",
    "**Nombres:** \n",
    "* Daniel Orozco Gómez\n",
    "* Cristian Vázquez Plesent\n",
    "\n",
    "**Fecha:** 08 de Marzo del 2023.\n",
    "\n",
    "**Expedientes**: 731324, 728143.\n",
    "    \n",
    "**Profesor:** Oscar David Jaramillo Zuluaga.\n",
    "    \n",
    "**Link Github**: https://github.com/Cristian282001/TAREA_4_ProyectoConjunto_CVAZQUEZ_DOROZCO.git\n",
    "\n",
    "# Tarea 4: Clase 9"
   ]
  },
  {
   "cell_type": "markdown",
   "id": "c31a08e0",
   "metadata": {},
   "source": [
    "## Enciado 1:\n",
    "\n",
    ">### <font color ='red'> **Tarea 4** \n",
    "    \n",
    "> Para las siguiente dos funciones, genere muestres aleatorias que distribuyan según la función dada usando el método de la transformada inversa y grafique el histograma de 1000 muestras generadas con el método de la transformada inversa y compárela con el función $f(x)$ **(recuerde que $f(x)$ es la distribución de probabilidad y $F(x)$ es la distribución de probabilidad acumulada)** [ver este enlace para más información](https://es.wikipedia.org/wiki/Funci%C3%B3n_de_distribuci%C3%B3n). Este procedimiento se realiza con el fín de validar que el procedimiento y los resultados son correctos.\n"
   ]
  },
  {
   "cell_type": "markdown",
   "id": "29ceda7b",
   "metadata": {},
   "source": [
    "## Ejercicio 1:\n",
    "\n",
    "> 1. Generación variable aleatoria continua\n",
    ">El tiempo en el cual un movimiento browniano se mantiene sobre su punto máximo en el intervalo [0,1] tiene una distribución\n",
    ">$$F(x)=\\frac{2}{\\pi}\\sin^{-1}(\\sqrt x),\\quad 0\\leq x\\leq 1$$ </font>"
   ]
  },
  {
   "cell_type": "markdown",
   "id": "df1a145f",
   "metadata": {},
   "source": [
    "### Código de solución estudiante 1"
   ]
  },
  {
   "cell_type": "code",
   "execution_count": 1,
   "id": "66c303f5",
   "metadata": {
    "scrolled": false
   },
   "outputs": [],
   "source": [
    "# Libreria\n",
    "\n",
    "import numpy as np\n",
    "import matplotlib.pyplot as plt\n"
   ]
  },
  {
   "cell_type": "code",
   "execution_count": 2,
   "id": "b60e9dd6",
   "metadata": {},
   "outputs": [],
   "source": [
    "# Definir la función de distribución de probabilidad acumulada (FDA)\n",
    "\n",
    "def F(x):\n",
    "    return 1/((np.sqrt(1-x))*(np.sqrt(x))*np.pi)\n"
   ]
  },
  {
   "cell_type": "code",
   "execution_count": 3,
   "id": "29ef8810",
   "metadata": {},
   "outputs": [],
   "source": [
    "# Definir la función de distribución de probabilidad acumulada (FDA)\n",
    "\n",
    "def F(x):\n",
    "    return 1/((np.sqrt(1-x))*(np.sqrt(x))*np.pi)\n",
    "\n",
    "\n",
    "# Definir la función inversa de la FDA\n",
    "\n",
    "def F_inv(p):\n",
    "    return np.sin((np.pi*p)/2)**2 "
   ]
  },
  {
   "cell_type": "code",
   "execution_count": 4,
   "id": "596b5dfe",
   "metadata": {},
   "outputs": [],
   "source": [
    "# Generar 1000 muestras aleatorias\n",
    "\n",
    "muestra = [F_inv(np.random.uniform(0,1)) for i in range(1000)]\n"
   ]
  },
  {
   "cell_type": "code",
   "execution_count": 5,
   "id": "eb73c3d8",
   "metadata": {},
   "outputs": [
    {
     "data": {
      "text/plain": [
       "(array([3.54007124, 1.29002596, 1.05002113, 0.8100163 , 0.8100163 ,\n",
       "        0.8400169 , 0.63001268, 1.05002113, 0.8100163 , 0.69001389,\n",
       "        0.66001328, 0.60001207, 0.51001026, 0.51001026, 0.60001207,\n",
       "        0.75001509, 0.54001087, 0.57001147, 0.60001207, 0.72001449,\n",
       "        0.66001328, 0.75001509, 0.90001811, 0.87001751, 0.8100163 ,\n",
       "        1.14002294, 0.7800157 , 0.8400169 , 1.44002898, 4.23008513]),\n",
       " array([5.41633997e-07, 3.33332041e-02, 6.66658667e-02, 9.99985292e-02,\n",
       "        1.33331192e-01, 1.66663854e-01, 1.99996517e-01, 2.33329179e-01,\n",
       "        2.66661842e-01, 2.99994504e-01, 3.33327167e-01, 3.66659829e-01,\n",
       "        3.99992492e-01, 4.33325154e-01, 4.66657817e-01, 4.99990479e-01,\n",
       "        5.33323142e-01, 5.66655804e-01, 5.99988467e-01, 6.33321129e-01,\n",
       "        6.66653792e-01, 6.99986454e-01, 7.33319117e-01, 7.66651779e-01,\n",
       "        7.99984442e-01, 8.33317105e-01, 8.66649767e-01, 8.99982430e-01,\n",
       "        9.33315092e-01, 9.66647755e-01, 9.99980417e-01]),\n",
       " <BarContainer object of 30 artists>)"
      ]
     },
     "execution_count": 5,
     "metadata": {},
     "output_type": "execute_result"
    },
    {
     "data": {
      "image/png": "[encoded data removed]",
      "text/plain": [
       "<Figure size 432x288 with 1 Axes>"
      ]
     },
     "metadata": {
      "needs_background": "light"
     },
     "output_type": "display_data"
    }
   ],
   "source": [
    "# Graficar el histograma de las muestras generadas\n",
    "\n",
    "plt.hist(muestra, bins=30, density=True, alpha=0.7)"
   ]
  },
  {
   "cell_type": "code",
   "execution_count": 6,
   "id": "b0e801d7",
   "metadata": {},
   "outputs": [
    {
     "name": "stderr",
     "output_type": "stream",
     "text": [
      "<ipython-input-3-87bde9c12c92>:4: RuntimeWarning: divide by zero encountered in double_scalars\n",
      "  return 1/((np.sqrt(1-x))*(np.sqrt(x))*np.pi)\n"
     ]
    },
    {
     "data": {
      "image/png": "[encoded data removed]",
      "text/plain": [
       "<Figure size 432x288 with 1 Axes>"
      ]
     },
     "metadata": {
      "needs_background": "light"
     },
     "output_type": "display_data"
    }
   ],
   "source": [
    "# Graficar el histograma de las muestras generadas\n",
    "\n",
    "plt.hist(muestra, bins=30, density=True, alpha=0.7)\n",
    "\n",
    "# Definir el rango de la gráfica\n",
    "\n",
    "x = np.linspace(0,1,100)\n",
    "y = [F(i) for i in x]\n",
    "\n",
    "# Graficar el histograma de las muestras generadas\n",
    "\n",
    "plt.hist(muestra, bins=30, density=True, alpha=0.7)\n",
    "\n",
    "# Graficar la función de distribución de probabilidad (FDP)\n",
    "\n",
    "plt.plot(x, y, color='red')\n",
    "\n",
    "# Añadir leyendas y títulos\n",
    "\n",
    "plt.xlabel('x')\n",
    "plt.ylabel('f(x)')\n",
    "plt.title('Distribución de probabilidad y muestras generadas')\n",
    "plt.legend(['F(x)', 'Muestras'])\n",
    "plt.show()"
   ]
  },
  {
   "cell_type": "markdown",
   "id": "a0347348",
   "metadata": {},
   "source": [
    "### Interpretacion\n",
    "\n",
    "- \n"
   ]
  },
  {
   "cell_type": "markdown",
   "id": "9ec755c2",
   "metadata": {},
   "source": [
    "### Código de solución estudiante 2"
   ]
  },
  {
   "cell_type": "code",
   "execution_count": null,
   "id": "d2a02bc4",
   "metadata": {},
   "outputs": [],
   "source": []
  },
  {
   "cell_type": "markdown",
   "id": "d793495a",
   "metadata": {},
   "source": [
    "## Ejercicio 2:"
   ]
  },
  {
   "cell_type": "markdown",
   "id": "d5901814",
   "metadata": {},
   "source": [
    "> 2. Generación variable aleatoria Discreta\n",
    "> La distribución binomial modela el número de éxitos de n ensayos independientes donde hay una probabilidad p de éxito en cada ensayo.\n",
    "> Generar una variable aletoria binomial con parámetros $n=10$ y $p=0.7$. Recordar que $$X\\sim binomial(n,p) \\longrightarrow p_i=P(X=i)=\\frac{n!}{i!(n-i)!}p^i(1-p)^{n-i},\\quad i=0,1,\\cdots,n$$\n",
    "> Por propiedades de la operación factorial la anterior $p_i$ se puede escribir como:\n",
    "> $$p_{i+1}=\\frac{n-i}{i+1}\\frac{p}{1-p} p_i $$\n",
    "\n",
    "> **Nota:** Por notación recuerde que para el caso continuo $f(x)$ es la distribución de probabilidad (PDF), mientras $F(x)$ corresponde a la distribución de probabilidad acumulada (CDF). Para el caso discreto, $P(X=i)$ corresponde a su distribución de probabilidad (PMF) y $ F_{X}(x)=\\operatorname {P} (X\\leq x)=\\sum _{x_{i}\\leq x}\\operatorname {P} (X=x_{i})=\\sum _{x_{i}\\leq x}p(x_{i})$, corresponde a su distribución de probabilidad acumulada (CDF)."
   ]
  },
  {
   "cell_type": "markdown",
   "id": "ce4b52e6",
   "metadata": {},
   "source": [
    "### Código de solución estudiante 1"
   ]
  },
  {
   "cell_type": "code",
   "execution_count": 7,
   "id": "f97550c7",
   "metadata": {},
   "outputs": [],
   "source": [
    "#Librerias\n",
    "\n",
    "import numpy as np\n",
    "import matplotlib.pyplot as plt\n",
    "import pandas as pd"
   ]
  },
  {
   "cell_type": "code",
   "execution_count": 8,
   "id": "611b8df4",
   "metadata": {},
   "outputs": [],
   "source": [
    "# Creación función acumuladas \n",
    "def acum(n ,p):\n",
    "    p_r = np.zeros(n)\n",
    "    p_r[0] = (1 - p) ** n\n",
    "    def pr(i):\n",
    "        nonlocal p_r\n",
    "        p_r[i + 1] = ((p / (1 - p)) * (n - i) / (i + 1)) * p_r[i]\n",
    "    [pr(i) for i in range(n - 1)]\n",
    "    return np.cumsum(p_r)\n"
   ]
  },
  {
   "cell_type": "code",
   "execution_count": 9,
   "id": "c882003f",
   "metadata": {},
   "outputs": [],
   "source": [
    "# Creación función Inversa \n",
    "\n",
    "def inv(pacum, N):\n",
    "    i_n = range(0, n + 1)\n",
    "    u = np.random.rand(N)\n",
    "    random = {i: idx for i, idx in enumerate(i_n)}\n",
    "    y = pd.Series([sum([1 for p in pacum if p < ui]) for ui in u]).map(random)\n",
    "    return y"
   ]
  },
  {
   "cell_type": "code",
   "execution_count": 10,
   "id": "a6640c8b",
   "metadata": {},
   "outputs": [],
   "source": [
    "# Parámetros de la distribución\n",
    "\n",
    "N = 1000\n",
    "n = 10\n",
    "p = 0.7\n",
    "dist = acum(n, p)\n",
    "m = inv(dist, N)"
   ]
  },
  {
   "cell_type": "code",
   "execution_count": 11,
   "id": "77428d57",
   "metadata": {
    "scrolled": true
   },
   "outputs": [
    {
     "data": {
      "image/png": "[encoded data removed]",
      "text/plain": [
       "<Figure size 720x288 with 1 Axes>"
      ]
     },
     "metadata": {
      "needs_background": "light"
     },
     "output_type": "display_data"
    }
   ],
   "source": [
    "# Graficar el histograma de la Inversa\n",
    "\n",
    "plt.figure(figsize=[10,4])\n",
    "y, x = np.histogram(m, bins = len(set(m)), density = True) \n",
    "plt.bar(range(min(m),11), y, label ='Inversa')\n",
    "plt.legend()\n",
    "plt.title('Inversa')\n",
    "plt.show()\n"
   ]
  },
  {
   "cell_type": "code",
   "execution_count": 12,
   "id": "48841b8d",
   "metadata": {},
   "outputs": [
    {
     "data": {
      "image/png": "[encoded data removed]",
      "text/plain": [
       "<Figure size 720x288 with 1 Axes>"
      ]
     },
     "metadata": {
      "needs_background": "light"
     },
     "output_type": "display_data"
    }
   ],
   "source": [
    "# Graficar el histograma de la Binomial\n",
    "\n",
    "b = np.random.binomial(n,p,N)\n",
    "plt.figure(figsize=[10,4])\n",
    "y_1, x_1 = np.histogram(m, bins=len(set(m)), density = True) \n",
    "plt.bar(x[1:], y,label = 'Binomial')\n",
    "plt.title('Binomial')\n",
    "plt.legend()\n",
    "plt.show()"
   ]
  },
  {
   "cell_type": "markdown",
   "id": "e519ade6",
   "metadata": {},
   "source": [
    "### Interpretacion\n",
    "\n",
    "- El siguiente código genera una variable aleatoria discreta binomial utilizando el método de la inversa de la función de distribución acumulada. Primero, se define una función llamada `acum` que calcula la distribución de probabilidad acumulada de la distribución binomial utilizando el método recursivo de la función de probabilidad `pr`. Luego, se define una función `inv` que genera una muestra aleatoria de la distribución binomial a partir de la distribución de probabilidad acumulada previamente calculada y el número de muestras `N` deseado. Finalmente, se grafican los histogramas de la distribución de probabilidad obtenida mediante la función inversa y de la distribución binomial generada directamente mediante la función `np.random.binomial`, para compararlas."
   ]
  },
  {
   "cell_type": "markdown",
   "id": "4f55b7e7",
   "metadata": {},
   "source": [
    "### Código de solución estudiante 2"
   ]
  },
  {
   "cell_type": "code",
   "execution_count": null,
   "id": "dbd3ea51",
   "metadata": {},
   "outputs": [],
   "source": []
  },
  {
   "cell_type": "code",
   "execution_count": null,
   "id": "5fb5e446",
   "metadata": {},
   "outputs": [],
   "source": []
  },
  {
   "cell_type": "code",
   "execution_count": null,
   "id": "a4fed8fa",
   "metadata": {},
   "outputs": [],
   "source": []
  },
  {
   "cell_type": "code",
   "execution_count": null,
   "id": "602a524e",
   "metadata": {},
   "outputs": [],
   "source": []
  },
  {
   "cell_type": "markdown",
   "id": "24760e7a",
   "metadata": {},
   "source": [
    "## Enciado 2:\n",
    "\n",
    "\n",
    "> ## <font color ='red'>Tarea 4: Demostrar la validez de la siguiente ecuación\n",
    ">$$p_{i+1}=\\frac{n-i}{i+1}\\frac{p}{1-p} p_i \\longrightarrow \\text{Hablar de las ventajas que sea recursiva}$$"
   ]
  },
  {
   "cell_type": "markdown",
   "id": "e8720a1a",
   "metadata": {},
   "source": [
    "### Código de solución estudiante 1"
   ]
  },
  {
   "cell_type": "markdown",
   "id": "9b465e1f",
   "metadata": {},
   "source": [
    "\n",
    "> Probabilidad con $i$:\n",
    "\n",
    "$$X\\sim binomial(n,p) \\longrightarrow p_i=P(X=i)=\\frac{n!}{i!(n-i)!}p^i(1-p)^{n-i},\\quad i=0,1,\\cdots,n$$\n",
    "$$ P(X=i)=\\frac{n!}{i!(n-i)!}p^i(1-p)^{n-i}$$\n",
    "\n",
    "\n",
    "> Probabilidad con $i + 1$:\n",
    "\n",
    "$$P(X = i + 1) = \\frac{n!}{(i + 1)! (n - (i + 1))!} p^{i + 1} (1 - p)^{n - (i + 1)}$$\n",
    "\n",
    "$$P(X = i + 1) = \\frac{n!}{(i + 1)! (n - i - 1)!} p^{i + 1} (1 - p)^{n - i - 1}$$\n",
    "\n",
    "> Demostracion\n",
    "\n",
    "$$p_{i+1}=\\frac{n!}{(i + 1)! (n - (i + 1))!} p^{i + 1} (1 - p)^{n - (i + 1)}$$\n",
    "\n",
    "$$ p_{i+1}=\\frac{n!}{(i + 1)i! (n - i )!} p^{i} p(1 - p)^{n - i } (1 - p)^{- 1 }$$\n",
    "\n",
    "$$ p_{i+1}=\\frac{\\frac{n!}{(i+1)!(n-(i+1))!}p^{i+1}(1-p)^{n-(i+1)}}{\\frac{n!}{i!(n-i)!}p^i(1-p)^{n-i}}$$\n",
    "\n",
    "$$ p_{i + 1} =  \\frac{(n - i)p}{(i + 1)(1 - p)} p_i $$"
   ]
  },
  {
   "cell_type": "markdown",
   "id": "3c8f58cc",
   "metadata": {},
   "source": [
    "### Interpretacion\n",
    "- La ventaja de tener una ecuación recursiva en comparación con la expresión inicial radica en una eficiencia computacional significativa. La expresión inicial incluye la operación aritmética factorial, lo que implica un mayor costo de cómputo al calcular probabilidades para un gran número de ensayos `(𝑛)`. En cambio, la expresión recursiva sólo necesita la probabilidad del ensayo `𝑖` para calcular la probabilidad del siguiente ensayo `𝑖+1`, lo que elimina la necesidad de utilizar la operación factorial."
   ]
  },
  {
   "cell_type": "markdown",
   "id": "607d47ef",
   "metadata": {},
   "source": [
    "### Código de solución estudiante 2"
   ]
  },
  {
   "cell_type": "markdown",
   "id": "a67093fb",
   "metadata": {},
   "source": []
  },
  {
   "cell_type": "code",
   "execution_count": null,
   "id": "3a8284ef",
   "metadata": {},
   "outputs": [],
   "source": []
  },
  {
   "cell_type": "markdown",
   "id": "ee7ce4e6",
   "metadata": {},
   "source": [
    "## Enciado 3:\n",
    "\n",
    "> ## <font color ='red'>Tarea 4\n",
    "Seguir un procedimiento similar al mostrado cuando se generó una distribución binomial, pero en esta caso genere un código que genere variables aletorias Poisson cuya función de distribución de probabilidad esta dada por:\n",
    ">$$P(k,\\lambda)=\\frac{e^{-\\lambda}(\\lambda)^k}{k!}$$\n",
    "    \n",
    "> Demuestre matemáticamente que \n",
    "> $$P(k+1)=\\frac{\\lambda}{k+1}P(k)$$\n",
    "> y a partir de esta relación genere variables aletorias que distribuyen poisson usando el método de la transformada inversa.\n",
    "\n",
    "Enlace: https://es.wikipedia.org/wiki/Distribuci%C3%B3n_de_Poisson\n"
   ]
  },
  {
   "cell_type": "markdown",
   "id": "b0c04b18",
   "metadata": {},
   "source": [
    "### Código de solución estudiante 1"
   ]
  },
  {
   "cell_type": "markdown",
   "id": "d97f84e8",
   "metadata": {},
   "source": [
    "> Probabilidad con $k$:\n",
    "\n",
    "$$P(k) = \\frac{e^{-\\lambda} \\space \\lambda^k}{k!}$$\n",
    "\n",
    "> Probabilidad con $k + 1$:\n",
    "\n",
    "$$P(k + 1) = \\frac{e^{-\\lambda} \\space \\lambda^{k + 1}}{(k + 1)!}$$\n",
    "\n",
    "> Demostracion\n",
    "\n",
    "$$P(k+1)=\\frac{e^{-\\lambda}(\\lambda)^{k+1}}{(k+1)!}$$\n",
    "    \n",
    "$$P(k+1)=\\frac{e^{-\\lambda}(\\lambda)^{k}\\lambda}{(k+1)k!}$$\n",
    "\n",
    "$$P(k+1) = \\frac{\\lambda}{( k + 1)} P(k)$$"
   ]
  },
  {
   "cell_type": "code",
   "execution_count": 4,
   "id": "c93be227",
   "metadata": {
    "scrolled": true
   },
   "outputs": [],
   "source": [
    "# Libreria\n",
    "\n",
    "import numpy as np\n",
    "import pandas as pd\n",
    "import matplotlib.pyplot as plt\n"
   ]
  },
  {
   "cell_type": "code",
   "execution_count": 5,
   "id": "e0b8f6da",
   "metadata": {},
   "outputs": [],
   "source": [
    "# Genera una distribución de probabilidad de \n",
    "# Poisson para un parámetro de tasa λ y un número \n",
    "# k de valores posibles en la distribución.\n",
    "\n",
    "def poisson(l, k):\n",
    "    p = np.zeros(k + 1)\n",
    "    p[0] = np.exp(-l)\n",
    "    for i in range(k):\n",
    "        p[i+1] = (l/(i+1))*p[i]\n",
    "    return np.cumsum(p)"
   ]
  },
  {
   "cell_type": "code",
   "execution_count": 6,
   "id": "d9b63b62",
   "metadata": {},
   "outputs": [],
   "source": [
    "# Genera una distribución discreta de variables aleatorias a \n",
    "# partir de una distribución acumulada y una lista de índices.\n",
    "\n",
    "def gen_distr_discreta(p_acum, indices, N):\n",
    "    U = np.random.rand(N)\n",
    "    rand2reales = dict(enumerate(indices))\n",
    "    y = pd.Series(np.searchsorted(p_acum, U)).map(rand2reales)\n",
    "    return y"
   ]
  },
  {
   "cell_type": "code",
   "execution_count": 7,
   "id": "05a5a0ba",
   "metadata": {},
   "outputs": [],
   "source": [
    "# Traza un histograma de la distribución discreta resultante \n",
    "# con la opción de mostrar la densidad en lugar de los conteos\n",
    "\n",
    "def plot_histogram_discrete(distribucion, label, densidad=True):\n",
    "    plt.figure(figsize=[10,4])\n",
    "    plt.hist(distribucion, bins=len(set(distribucion)), density=densidad, label=label)\n",
    "    plt.legend()\n",
    "    plt.show()"
   ]
  },
  {
   "cell_type": "code",
   "execution_count": 10,
   "id": "7d1f8c06",
   "metadata": {},
   "outputs": [
    {
     "data": {
      "image/png": "[encoded data removed]",
      "text/plain": [
       "<Figure size 720x288 with 1 Axes>"
      ]
     },
     "metadata": {
      "needs_background": "light"
     },
     "output_type": "display_data"
    }
   ],
   "source": [
    "# Parámetros lambda\n",
    "\n",
    "pacum = poisson(2, 100)\n",
    "\n",
    "# Arreglo con los posibles valores de la variable aleatoria\n",
    "\n",
    "dist_poisson = gen_distr_discreta(pacum, np.arange(0, 11), 1000)\n",
    "\n",
    "# Graficar el histograma de la distribución de Poisson\n",
    "\n",
    "plot_histogram_discrete(dist_poisson, 'Poisson transformada inversa')"
   ]
  },
  {
   "cell_type": "markdown",
   "id": "7e9676a7",
   "metadata": {},
   "source": [
    "### Código de solución estudiante 2"
   ]
  },
  {
   "cell_type": "markdown",
   "id": "352edbe4",
   "metadata": {},
   "source": []
  },
  {
   "cell_type": "code",
   "execution_count": null,
   "id": "ff81c3e9",
   "metadata": {},
   "outputs": [],
   "source": []
  }
 ],
 "metadata": {
  "kernelspec": {
   "display_name": "Python 3",
   "language": "python",
   "name": "python3"
  },
  "language_info": {
   "codemirror_mode": {
    "name": "ipython",
    "version": 3
   },
   "file_extension": ".py",
   "mimetype": "text/x-python",
   "name": "python",
   "nbconvert_exporter": "python",
   "pygments_lexer": "ipython3",
   "version": "3.8.8"
  }
 },
 "nbformat": 4,
 "nbformat_minor": 5
}
